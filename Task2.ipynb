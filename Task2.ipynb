{
 "cells": [
  {
   "cell_type": "code",
   "execution_count": 3,
   "id": "f8daea36-651e-4836-9f61-683de4092f1f",
   "metadata": {},
   "outputs": [],
   "source": [
    "import io\n",
    "import os\n",
    "import pandas as pd"
   ]
  },
  {
   "cell_type": "code",
   "execution_count": 4,
   "id": "4710ef38-815b-4722-87c0-e64c76c2e458",
   "metadata": {},
   "outputs": [],
   "source": [
    "path = 'C:/Users/Hewlett-Packard/Desktop/tumor_vs_normal.manta.somatic.vcf'\n",
    "def read_vcf(path):\n",
    "    with open(path, 'r') as f:\n",
    "        lines = [l for l in f if not l.startswith('##')]\n",
    "    return pd.read_csv(\n",
    "        io.StringIO(''.join(lines)),\n",
    "        dtype={'#CHROM': str, 'POS': int, 'ID': str, 'REF': str, 'ALT': str,\n",
    "               'QUAL': str, 'FILTER': str, 'INFO': str},\n",
    "        sep='\\t'\n",
    "    ).rename(columns={'#CHROM': 'CHROM'})"
   ]
  },
  {
   "cell_type": "code",
   "execution_count": 5,
   "id": "18f07066-35aa-4dc8-9aec-814e4fc33a98",
   "metadata": {},
   "outputs": [],
   "source": [
    "df = read_vcf(path)"
   ]
  },
  {
   "cell_type": "code",
   "execution_count": 6,
   "id": "00bf6545-1e6c-429b-8dd1-ea25e8f8a1f4",
   "metadata": {},
   "outputs": [
    {
     "data": {
      "text/html": [
       "<div>\n",
       "<style scoped>\n",
       "    .dataframe tbody tr th:only-of-type {\n",
       "        vertical-align: middle;\n",
       "    }\n",
       "\n",
       "    .dataframe tbody tr th {\n",
       "        vertical-align: top;\n",
       "    }\n",
       "\n",
       "    .dataframe thead th {\n",
       "        text-align: right;\n",
       "    }\n",
       "</style>\n",
       "<table border=\"1\" class=\"dataframe\">\n",
       "  <thead>\n",
       "    <tr style=\"text-align: right;\">\n",
       "      <th></th>\n",
       "      <th>CHROM</th>\n",
       "      <th>POS</th>\n",
       "      <th>ID</th>\n",
       "      <th>REF</th>\n",
       "      <th>ALT</th>\n",
       "      <th>QUAL</th>\n",
       "      <th>FILTER</th>\n",
       "      <th>INFO</th>\n",
       "      <th>FORMAT</th>\n",
       "      <th>NORMAL</th>\n",
       "      <th>TUMOR</th>\n",
       "    </tr>\n",
       "  </thead>\n",
       "  <tbody>\n",
       "    <tr>\n",
       "      <th>0</th>\n",
       "      <td>1</td>\n",
       "      <td>7978032</td>\n",
       "      <td>MantaDUP:TANDEM:1203:0:1:0:0:0</td>\n",
       "      <td>A</td>\n",
       "      <td>&lt;DUP:TANDEM&gt;</td>\n",
       "      <td>.</td>\n",
       "      <td>PASS</td>\n",
       "      <td>END=8553291;SVTYPE=DUP;SVLEN=575259;CIPOS=0,1;...</td>\n",
       "      <td>PR:SR</td>\n",
       "      <td>64,0:40,0</td>\n",
       "      <td>51,3:39,2</td>\n",
       "    </tr>\n",
       "    <tr>\n",
       "      <th>1</th>\n",
       "      <td>1</td>\n",
       "      <td>8290812</td>\n",
       "      <td>MantaDEL:1404:0:0:1:0:0</td>\n",
       "      <td>GCTGGAATGCAGTGGCACGATCTTGGCTCACTACAACCTCTGCCTC...</td>\n",
       "      <td>G</td>\n",
       "      <td>.</td>\n",
       "      <td>PASS</td>\n",
       "      <td>END=8291005;SVTYPE=DEL;SVLEN=-193;CIGAR=1M193D...</td>\n",
       "      <td>PR:SR</td>\n",
       "      <td>55,0:55,0</td>\n",
       "      <td>57,12:44,6</td>\n",
       "    </tr>\n",
       "    <tr>\n",
       "      <th>2</th>\n",
       "      <td>1</td>\n",
       "      <td>11434171</td>\n",
       "      <td>MantaBND:3:17691:17695:0:0:0:0</td>\n",
       "      <td>T</td>\n",
       "      <td>[7:26679271[T</td>\n",
       "      <td>.</td>\n",
       "      <td>MinSomaticScore</td>\n",
       "      <td>SVTYPE=BND;MATEID=MantaBND:3:17691:17695:0:0:0...</td>\n",
       "      <td>PR</td>\n",
       "      <td>50,0</td>\n",
       "      <td>66,5</td>\n",
       "    </tr>\n",
       "    <tr>\n",
       "      <th>3</th>\n",
       "      <td>1</td>\n",
       "      <td>16871910</td>\n",
       "      <td>MantaBND:2919:0:1:0:0:0:1</td>\n",
       "      <td>A</td>\n",
       "      <td>[1:42662695[A</td>\n",
       "      <td>.</td>\n",
       "      <td>PASS</td>\n",
       "      <td>SVTYPE=BND;MATEID=MantaBND:2919:0:1:0:0:0:0;CI...</td>\n",
       "      <td>PR:SR</td>\n",
       "      <td>101,0:70,0</td>\n",
       "      <td>119,2:70,7</td>\n",
       "    </tr>\n",
       "    <tr>\n",
       "      <th>4</th>\n",
       "      <td>1</td>\n",
       "      <td>21436180</td>\n",
       "      <td>MantaBND:3740:0:1:0:0:0:1</td>\n",
       "      <td>G</td>\n",
       "      <td>G]12:91074805]</td>\n",
       "      <td>.</td>\n",
       "      <td>PASS</td>\n",
       "      <td>SVTYPE=BND;MATEID=MantaBND:3740:0:1:0:0:0:0;CI...</td>\n",
       "      <td>PR:SR</td>\n",
       "      <td>91,0:62,0</td>\n",
       "      <td>102,2:45,2</td>\n",
       "    </tr>\n",
       "    <tr>\n",
       "      <th>5</th>\n",
       "      <td>1</td>\n",
       "      <td>30962092</td>\n",
       "      <td>MantaBND:3:7626:7635:0:0:0:0</td>\n",
       "      <td>T</td>\n",
       "      <td>T[12:111318334[</td>\n",
       "      <td>.</td>\n",
       "      <td>PASS</td>\n",
       "      <td>SVTYPE=BND;MATEID=MantaBND:3:7626:7635:0:0:0:1...</td>\n",
       "      <td>PR</td>\n",
       "      <td>80,0</td>\n",
       "      <td>76,8</td>\n",
       "    </tr>\n",
       "    <tr>\n",
       "      <th>6</th>\n",
       "      <td>1</td>\n",
       "      <td>33151833</td>\n",
       "      <td>MantaBND:5840:0:1:0:1:0:0</td>\n",
       "      <td>A</td>\n",
       "      <td>]5:30886167]A</td>\n",
       "      <td>.</td>\n",
       "      <td>PASS</td>\n",
       "      <td>SVTYPE=BND;MATEID=MantaBND:5840:0:1:0:1:0:1;CI...</td>\n",
       "      <td>PR:SR</td>\n",
       "      <td>76,0:46,0</td>\n",
       "      <td>127,21:70,9</td>\n",
       "    </tr>\n",
       "    <tr>\n",
       "      <th>7</th>\n",
       "      <td>1</td>\n",
       "      <td>35101527</td>\n",
       "      <td>MantaDUP:TANDEM:6233:0:1:0:0:0</td>\n",
       "      <td>T</td>\n",
       "      <td>&lt;DUP:TANDEM&gt;</td>\n",
       "      <td>.</td>\n",
       "      <td>PASS</td>\n",
       "      <td>END=40610174;SVTYPE=DUP;SVLEN=5508647;CIPOS=0,...</td>\n",
       "      <td>PR:SR</td>\n",
       "      <td>100,0:37,0</td>\n",
       "      <td>118,10:56,3</td>\n",
       "    </tr>\n",
       "    <tr>\n",
       "      <th>8</th>\n",
       "      <td>1</td>\n",
       "      <td>35390743</td>\n",
       "      <td>MantaDEL:6274:0:1:0:0:0</td>\n",
       "      <td>C</td>\n",
       "      <td>&lt;DEL&gt;</td>\n",
       "      <td>.</td>\n",
       "      <td>PASS</td>\n",
       "      <td>END=44505229;SVTYPE=DEL;SVLEN=-9114486;CIPOS=0...</td>\n",
       "      <td>PR:SR</td>\n",
       "      <td>77,0:43,0</td>\n",
       "      <td>80,15:41,6</td>\n",
       "    </tr>\n",
       "    <tr>\n",
       "      <th>9</th>\n",
       "      <td>1</td>\n",
       "      <td>35892650</td>\n",
       "      <td>MantaDEL:3:18152:18153:0:0:0</td>\n",
       "      <td>A</td>\n",
       "      <td>&lt;DEL&gt;</td>\n",
       "      <td>.</td>\n",
       "      <td>MinSomaticScore</td>\n",
       "      <td>END=35896082;SVTYPE=DEL;SVLEN=-3432;IMPRECISE;...</td>\n",
       "      <td>PR</td>\n",
       "      <td>93,0</td>\n",
       "      <td>103,6</td>\n",
       "    </tr>\n",
       "  </tbody>\n",
       "</table>\n",
       "</div>"
      ],
      "text/plain": [
       "  CHROM       POS                              ID  \\\n",
       "0     1   7978032  MantaDUP:TANDEM:1203:0:1:0:0:0   \n",
       "1     1   8290812         MantaDEL:1404:0:0:1:0:0   \n",
       "2     1  11434171  MantaBND:3:17691:17695:0:0:0:0   \n",
       "3     1  16871910       MantaBND:2919:0:1:0:0:0:1   \n",
       "4     1  21436180       MantaBND:3740:0:1:0:0:0:1   \n",
       "5     1  30962092    MantaBND:3:7626:7635:0:0:0:0   \n",
       "6     1  33151833       MantaBND:5840:0:1:0:1:0:0   \n",
       "7     1  35101527  MantaDUP:TANDEM:6233:0:1:0:0:0   \n",
       "8     1  35390743         MantaDEL:6274:0:1:0:0:0   \n",
       "9     1  35892650    MantaDEL:3:18152:18153:0:0:0   \n",
       "\n",
       "                                                 REF              ALT QUAL  \\\n",
       "0                                                  A     <DUP:TANDEM>    .   \n",
       "1  GCTGGAATGCAGTGGCACGATCTTGGCTCACTACAACCTCTGCCTC...                G    .   \n",
       "2                                                  T    [7:26679271[T    .   \n",
       "3                                                  A    [1:42662695[A    .   \n",
       "4                                                  G   G]12:91074805]    .   \n",
       "5                                                  T  T[12:111318334[    .   \n",
       "6                                                  A    ]5:30886167]A    .   \n",
       "7                                                  T     <DUP:TANDEM>    .   \n",
       "8                                                  C            <DEL>    .   \n",
       "9                                                  A            <DEL>    .   \n",
       "\n",
       "            FILTER                                               INFO FORMAT  \\\n",
       "0             PASS  END=8553291;SVTYPE=DUP;SVLEN=575259;CIPOS=0,1;...  PR:SR   \n",
       "1             PASS  END=8291005;SVTYPE=DEL;SVLEN=-193;CIGAR=1M193D...  PR:SR   \n",
       "2  MinSomaticScore  SVTYPE=BND;MATEID=MantaBND:3:17691:17695:0:0:0...     PR   \n",
       "3             PASS  SVTYPE=BND;MATEID=MantaBND:2919:0:1:0:0:0:0;CI...  PR:SR   \n",
       "4             PASS  SVTYPE=BND;MATEID=MantaBND:3740:0:1:0:0:0:0;CI...  PR:SR   \n",
       "5             PASS  SVTYPE=BND;MATEID=MantaBND:3:7626:7635:0:0:0:1...     PR   \n",
       "6             PASS  SVTYPE=BND;MATEID=MantaBND:5840:0:1:0:1:0:1;CI...  PR:SR   \n",
       "7             PASS  END=40610174;SVTYPE=DUP;SVLEN=5508647;CIPOS=0,...  PR:SR   \n",
       "8             PASS  END=44505229;SVTYPE=DEL;SVLEN=-9114486;CIPOS=0...  PR:SR   \n",
       "9  MinSomaticScore  END=35896082;SVTYPE=DEL;SVLEN=-3432;IMPRECISE;...     PR   \n",
       "\n",
       "       NORMAL        TUMOR  \n",
       "0   64,0:40,0    51,3:39,2  \n",
       "1   55,0:55,0   57,12:44,6  \n",
       "2        50,0         66,5  \n",
       "3  101,0:70,0   119,2:70,7  \n",
       "4   91,0:62,0   102,2:45,2  \n",
       "5        80,0         76,8  \n",
       "6   76,0:46,0  127,21:70,9  \n",
       "7  100,0:37,0  118,10:56,3  \n",
       "8   77,0:43,0   80,15:41,6  \n",
       "9        93,0        103,6  "
      ]
     },
     "execution_count": 6,
     "metadata": {},
     "output_type": "execute_result"
    }
   ],
   "source": [
    "df.head(10)"
   ]
  },
  {
   "cell_type": "code",
   "execution_count": 121,
   "id": "ceb681b9-2a3c-4369-a64f-fed8e964e79c",
   "metadata": {},
   "outputs": [],
   "source": [
    "##Q1: Count the total number of variants represented in the form of breakends."
   ]
  },
  {
   "cell_type": "code",
   "execution_count": 7,
   "id": "6336f094-68f5-46eb-bce1-378de7f34052",
   "metadata": {},
   "outputs": [],
   "source": [
    "data_BND = df.loc[df['INFO'].str.contains(\"BND\", case=True)]"
   ]
  },
  {
   "cell_type": "code",
   "execution_count": 10,
   "id": "70ba8f49-9cc2-4e3b-a025-a4505a9022ef",
   "metadata": {},
   "outputs": [
    {
     "data": {
      "text/plain": [
       "(754, 11)"
      ]
     },
     "execution_count": 10,
     "metadata": {},
     "output_type": "execute_result"
    }
   ],
   "source": [
    "data_BND.shape"
   ]
  },
  {
   "cell_type": "code",
   "execution_count": null,
   "id": "6e7aa1d6-fa26-4ceb-a396-85b729cabb62",
   "metadata": {},
   "outputs": [],
   "source": [
    "##Q2:Make a boxplots of the deletion length per each chromosome."
   ]
  },
  {
   "cell_type": "code",
   "execution_count": 20,
   "id": "adb5c5ff-be42-43bb-a26a-f5ec9f3b923c",
   "metadata": {},
   "outputs": [],
   "source": [
    "df3 = df.groupby([\"CHROM\", \"ALT\"]).size().reset_index(name=\"size\")"
   ]
  },
  {
   "cell_type": "code",
   "execution_count": 21,
   "id": "87af9c4c-b284-4003-9317-ef14c08c338f",
   "metadata": {},
   "outputs": [
    {
     "data": {
      "text/html": [
       "<div>\n",
       "<style scoped>\n",
       "    .dataframe tbody tr th:only-of-type {\n",
       "        vertical-align: middle;\n",
       "    }\n",
       "\n",
       "    .dataframe tbody tr th {\n",
       "        vertical-align: top;\n",
       "    }\n",
       "\n",
       "    .dataframe thead th {\n",
       "        text-align: right;\n",
       "    }\n",
       "</style>\n",
       "<table border=\"1\" class=\"dataframe\">\n",
       "  <thead>\n",
       "    <tr style=\"text-align: right;\">\n",
       "      <th></th>\n",
       "      <th>CHROM</th>\n",
       "      <th>ALT</th>\n",
       "      <th>size</th>\n",
       "    </tr>\n",
       "  </thead>\n",
       "  <tbody>\n",
       "    <tr>\n",
       "      <th>0</th>\n",
       "      <td>1</td>\n",
       "      <td>&lt;DEL&gt;</td>\n",
       "      <td>10</td>\n",
       "    </tr>\n",
       "    <tr>\n",
       "      <th>1</th>\n",
       "      <td>1</td>\n",
       "      <td>&lt;DUP:TANDEM&gt;</td>\n",
       "      <td>5</td>\n",
       "    </tr>\n",
       "    <tr>\n",
       "      <th>2</th>\n",
       "      <td>1</td>\n",
       "      <td>AAAATTAG]1:173998382]</td>\n",
       "      <td>1</td>\n",
       "    </tr>\n",
       "    <tr>\n",
       "      <th>3</th>\n",
       "      <td>1</td>\n",
       "      <td>A[10:100583935[</td>\n",
       "      <td>1</td>\n",
       "    </tr>\n",
       "    <tr>\n",
       "      <th>4</th>\n",
       "      <td>1</td>\n",
       "      <td>A]13:75118825]</td>\n",
       "      <td>1</td>\n",
       "    </tr>\n",
       "  </tbody>\n",
       "</table>\n",
       "</div>"
      ],
      "text/plain": [
       "  CHROM                    ALT  size\n",
       "0     1                  <DEL>    10\n",
       "1     1           <DUP:TANDEM>     5\n",
       "2     1  AAAATTAG]1:173998382]     1\n",
       "3     1        A[10:100583935[     1\n",
       "4     1         A]13:75118825]     1"
      ]
     },
     "execution_count": 21,
     "metadata": {},
     "output_type": "execute_result"
    }
   ],
   "source": [
    "df3.head()"
   ]
  },
  {
   "cell_type": "code",
   "execution_count": 122,
   "id": "ec395884-588e-425e-9b45-0f44b8ac6a62",
   "metadata": {},
   "outputs": [],
   "source": [
    "df4 = df3.loc[df3['ALT'] == '<DEL>']"
   ]
  },
  {
   "cell_type": "code",
   "execution_count": 123,
   "id": "c0d66d16-e9b2-4d7a-93ca-ba93beb83236",
   "metadata": {},
   "outputs": [
    {
     "data": {
      "text/html": [
       "<div>\n",
       "<style scoped>\n",
       "    .dataframe tbody tr th:only-of-type {\n",
       "        vertical-align: middle;\n",
       "    }\n",
       "\n",
       "    .dataframe tbody tr th {\n",
       "        vertical-align: top;\n",
       "    }\n",
       "\n",
       "    .dataframe thead th {\n",
       "        text-align: right;\n",
       "    }\n",
       "</style>\n",
       "<table border=\"1\" class=\"dataframe\">\n",
       "  <thead>\n",
       "    <tr style=\"text-align: right;\">\n",
       "      <th></th>\n",
       "      <th>CHROM</th>\n",
       "      <th>ALT</th>\n",
       "      <th>size</th>\n",
       "    </tr>\n",
       "  </thead>\n",
       "  <tbody>\n",
       "    <tr>\n",
       "      <th>0</th>\n",
       "      <td>1</td>\n",
       "      <td>&lt;DEL&gt;</td>\n",
       "      <td>10</td>\n",
       "    </tr>\n",
       "    <tr>\n",
       "      <th>86</th>\n",
       "      <td>10</td>\n",
       "      <td>&lt;DEL&gt;</td>\n",
       "      <td>7</td>\n",
       "    </tr>\n",
       "    <tr>\n",
       "      <th>159</th>\n",
       "      <td>11</td>\n",
       "      <td>&lt;DEL&gt;</td>\n",
       "      <td>5</td>\n",
       "    </tr>\n",
       "    <tr>\n",
       "      <th>169</th>\n",
       "      <td>12</td>\n",
       "      <td>&lt;DEL&gt;</td>\n",
       "      <td>7</td>\n",
       "    </tr>\n",
       "    <tr>\n",
       "      <th>245</th>\n",
       "      <td>13</td>\n",
       "      <td>&lt;DEL&gt;</td>\n",
       "      <td>1</td>\n",
       "    </tr>\n",
       "    <tr>\n",
       "      <th>258</th>\n",
       "      <td>14</td>\n",
       "      <td>&lt;DEL&gt;</td>\n",
       "      <td>6</td>\n",
       "    </tr>\n",
       "    <tr>\n",
       "      <th>272</th>\n",
       "      <td>15</td>\n",
       "      <td>&lt;DEL&gt;</td>\n",
       "      <td>3</td>\n",
       "    </tr>\n",
       "    <tr>\n",
       "      <th>278</th>\n",
       "      <td>16</td>\n",
       "      <td>&lt;DEL&gt;</td>\n",
       "      <td>3</td>\n",
       "    </tr>\n",
       "    <tr>\n",
       "      <th>296</th>\n",
       "      <td>17</td>\n",
       "      <td>&lt;DEL&gt;</td>\n",
       "      <td>5</td>\n",
       "    </tr>\n",
       "    <tr>\n",
       "      <th>325</th>\n",
       "      <td>18</td>\n",
       "      <td>&lt;DEL&gt;</td>\n",
       "      <td>1</td>\n",
       "    </tr>\n",
       "    <tr>\n",
       "      <th>344</th>\n",
       "      <td>19</td>\n",
       "      <td>&lt;DEL&gt;</td>\n",
       "      <td>4</td>\n",
       "    </tr>\n",
       "    <tr>\n",
       "      <th>356</th>\n",
       "      <td>2</td>\n",
       "      <td>&lt;DEL&gt;</td>\n",
       "      <td>14</td>\n",
       "    </tr>\n",
       "    <tr>\n",
       "      <th>477</th>\n",
       "      <td>20</td>\n",
       "      <td>&lt;DEL&gt;</td>\n",
       "      <td>4</td>\n",
       "    </tr>\n",
       "    <tr>\n",
       "      <th>529</th>\n",
       "      <td>22</td>\n",
       "      <td>&lt;DEL&gt;</td>\n",
       "      <td>1</td>\n",
       "    </tr>\n",
       "    <tr>\n",
       "      <th>541</th>\n",
       "      <td>3</td>\n",
       "      <td>&lt;DEL&gt;</td>\n",
       "      <td>8</td>\n",
       "    </tr>\n",
       "    <tr>\n",
       "      <th>568</th>\n",
       "      <td>4</td>\n",
       "      <td>&lt;DEL&gt;</td>\n",
       "      <td>1</td>\n",
       "    </tr>\n",
       "    <tr>\n",
       "      <th>593</th>\n",
       "      <td>5</td>\n",
       "      <td>&lt;DEL&gt;</td>\n",
       "      <td>9</td>\n",
       "    </tr>\n",
       "    <tr>\n",
       "      <th>639</th>\n",
       "      <td>6</td>\n",
       "      <td>&lt;DEL&gt;</td>\n",
       "      <td>3</td>\n",
       "    </tr>\n",
       "    <tr>\n",
       "      <th>661</th>\n",
       "      <td>7</td>\n",
       "      <td>&lt;DEL&gt;</td>\n",
       "      <td>8</td>\n",
       "    </tr>\n",
       "    <tr>\n",
       "      <th>686</th>\n",
       "      <td>8</td>\n",
       "      <td>&lt;DEL&gt;</td>\n",
       "      <td>4</td>\n",
       "    </tr>\n",
       "    <tr>\n",
       "      <th>730</th>\n",
       "      <td>9</td>\n",
       "      <td>&lt;DEL&gt;</td>\n",
       "      <td>5</td>\n",
       "    </tr>\n",
       "    <tr>\n",
       "      <th>750</th>\n",
       "      <td>X</td>\n",
       "      <td>&lt;DEL&gt;</td>\n",
       "      <td>13</td>\n",
       "    </tr>\n",
       "    <tr>\n",
       "      <th>800</th>\n",
       "      <td>hs37d5</td>\n",
       "      <td>&lt;DEL&gt;</td>\n",
       "      <td>1</td>\n",
       "    </tr>\n",
       "  </tbody>\n",
       "</table>\n",
       "</div>"
      ],
      "text/plain": [
       "      CHROM    ALT  size\n",
       "0         1  <DEL>    10\n",
       "86       10  <DEL>     7\n",
       "159      11  <DEL>     5\n",
       "169      12  <DEL>     7\n",
       "245      13  <DEL>     1\n",
       "258      14  <DEL>     6\n",
       "272      15  <DEL>     3\n",
       "278      16  <DEL>     3\n",
       "296      17  <DEL>     5\n",
       "325      18  <DEL>     1\n",
       "344      19  <DEL>     4\n",
       "356       2  <DEL>    14\n",
       "477      20  <DEL>     4\n",
       "529      22  <DEL>     1\n",
       "541       3  <DEL>     8\n",
       "568       4  <DEL>     1\n",
       "593       5  <DEL>     9\n",
       "639       6  <DEL>     3\n",
       "661       7  <DEL>     8\n",
       "686       8  <DEL>     4\n",
       "730       9  <DEL>     5\n",
       "750       X  <DEL>    13\n",
       "800  hs37d5  <DEL>     1"
      ]
     },
     "execution_count": 123,
     "metadata": {},
     "output_type": "execute_result"
    }
   ],
   "source": [
    "df4"
   ]
  },
  {
   "cell_type": "code",
   "execution_count": null,
   "id": "a2edb2d6-9a5e-4d10-a791-a6a045da7640",
   "metadata": {},
   "outputs": [],
   "source": [
    "##plot representing number of deletions corrosponding to each chromosome"
   ]
  },
  {
   "cell_type": "code",
   "execution_count": 23,
   "id": "d58472ac-314b-4fa4-9418-6e2d8ebdd3c3",
   "metadata": {},
   "outputs": [
    {
     "data": {
      "text/plain": [
       "<AxesSubplot:xlabel='CHROM'>"
      ]
     },
     "execution_count": 23,
     "metadata": {},
     "output_type": "execute_result"
    },
    {
     "data": {
      "image/png": "[encoded data removed]",
      "text/plain": [
       "<Figure size 432x288 with 1 Axes>"
      ]
     },
     "metadata": {
      "needs_background": "light"
     },
     "output_type": "display_data"
    }
   ],
   "source": [
    "df4.plot(x='CHROM', y='size') "
   ]
  },
  {
   "cell_type": "code",
   "execution_count": null,
   "id": "04f637a4-5f52-411d-a441-15cca247edd8",
   "metadata": {},
   "outputs": [],
   "source": [
    "###Q3:Count how many variants failed to pass the filtering. Make a piechart of most frequent reasons to fail."
   ]
  },
  {
   "cell_type": "code",
   "execution_count": 11,
   "id": "4c4bec42-b454-45de-bf59-bf25eab78b77",
   "metadata": {},
   "outputs": [],
   "source": [
    "filter_pass = df.groupby(['FILTER'], sort=False).size().reset_index(name='Count')"
   ]
  },
  {
   "cell_type": "code",
   "execution_count": 12,
   "id": "0db01f96-cf0a-415b-8eef-71a8512a3cdc",
   "metadata": {},
   "outputs": [
    {
     "data": {
      "text/html": [
       "<div>\n",
       "<style scoped>\n",
       "    .dataframe tbody tr th:only-of-type {\n",
       "        vertical-align: middle;\n",
       "    }\n",
       "\n",
       "    .dataframe tbody tr th {\n",
       "        vertical-align: top;\n",
       "    }\n",
       "\n",
       "    .dataframe thead th {\n",
       "        text-align: right;\n",
       "    }\n",
       "</style>\n",
       "<table border=\"1\" class=\"dataframe\">\n",
       "  <thead>\n",
       "    <tr style=\"text-align: right;\">\n",
       "      <th></th>\n",
       "      <th>FILTER</th>\n",
       "      <th>Count</th>\n",
       "    </tr>\n",
       "  </thead>\n",
       "  <tbody>\n",
       "    <tr>\n",
       "      <th>0</th>\n",
       "      <td>PASS</td>\n",
       "      <td>642</td>\n",
       "    </tr>\n",
       "    <tr>\n",
       "      <th>1</th>\n",
       "      <td>MinSomaticScore</td>\n",
       "      <td>321</td>\n",
       "    </tr>\n",
       "    <tr>\n",
       "      <th>2</th>\n",
       "      <td>MaxDepth</td>\n",
       "      <td>13</td>\n",
       "    </tr>\n",
       "    <tr>\n",
       "      <th>3</th>\n",
       "      <td>MaxMQ0Frac</td>\n",
       "      <td>1</td>\n",
       "    </tr>\n",
       "  </tbody>\n",
       "</table>\n",
       "</div>"
      ],
      "text/plain": [
       "            FILTER  Count\n",
       "0             PASS    642\n",
       "1  MinSomaticScore    321\n",
       "2         MaxDepth     13\n",
       "3       MaxMQ0Frac      1"
      ]
     },
     "execution_count": 12,
     "metadata": {},
     "output_type": "execute_result"
    }
   ],
   "source": [
    "filter_pass.head()"
   ]
  },
  {
   "cell_type": "code",
   "execution_count": 19,
   "id": "5f5d18d3-80fb-43c7-9e6f-4400a99203a4",
   "metadata": {},
   "outputs": [
    {
     "data": {
      "text/plain": [
       "<AxesSubplot:ylabel='Count'>"
      ]
     },
     "execution_count": 19,
     "metadata": {},
     "output_type": "execute_result"
    },
    {
     "data": {
      "image/png": "[encoded data removed]",
      "text/plain": [
       "<Figure size 360x360 with 1 Axes>"
      ]
     },
     "metadata": {},
     "output_type": "display_data"
    }
   ],
   "source": [
    "filter_pass.groupby(['FILTER']).sum().plot(kind='pie', y='Count', figsize=(5,5))"
   ]
  },
  {
   "cell_type": "code",
   "execution_count": null,
   "id": "91a22f80-aba1-4545-a7bb-4ce718765cdc",
   "metadata": {},
   "outputs": [],
   "source": [
    "## The most frequent reason is minimumsomaticscore"
   ]
  },
  {
   "cell_type": "code",
   "execution_count": null,
   "id": "3e0f622c-ee7f-4a35-a947-c7c93904bb32",
   "metadata": {},
   "outputs": [],
   "source": [
    "##Q4:  Find the variant with the widest confidence interval around POS;"
   ]
  },
  {
   "cell_type": "code",
   "execution_count": 107,
   "id": "b7aad614-ed8b-4e4a-b5fb-ec9674e0fbc9",
   "metadata": {},
   "outputs": [],
   "source": [
    "extracted = df.INFO.str.extract(r'(?P<Str>CIPOS=[^;]+)')"
   ]
  },
  {
   "cell_type": "code",
   "execution_count": 108,
   "id": "60163109-8963-469c-89b4-59991852a4b3",
   "metadata": {},
   "outputs": [],
   "source": [
    "new = extracted[\"Str\"].str.split(\"=\", n = 1, expand = True)"
   ]
  },
  {
   "cell_type": "code",
   "execution_count": 109,
   "id": "34dee751-50d4-4f2b-8b37-03347690bcce",
   "metadata": {},
   "outputs": [],
   "source": [
    "extracted[\"diff\"]= new[1]"
   ]
  },
  {
   "cell_type": "code",
   "execution_count": 110,
   "id": "01f89199-b7e5-404b-97be-93f40509d715",
   "metadata": {},
   "outputs": [],
   "source": [
    "new2 = extracted[\"diff\"].str.split(\",\", n=1,  expand = True)"
   ]
  },
  {
   "cell_type": "code",
   "execution_count": 111,
   "id": "aeed69f9-a209-4027-9314-ed786ba7ee3c",
   "metadata": {},
   "outputs": [],
   "source": [
    "extracted[\"diff2\"]= new2[0]"
   ]
  },
  {
   "cell_type": "code",
   "execution_count": null,
   "id": "fae2806d-0f79-418c-bea9-41ca573e414c",
   "metadata": {},
   "outputs": [],
   "source": [
    "extracted[\"diff1\"]= new2[1]\n",
    "extracted[\"diff1\"]"
   ]
  },
  {
   "cell_type": "code",
   "execution_count": 115,
   "id": "ad8fb895-4766-4394-9f20-d574e1e3bf3d",
   "metadata": {},
   "outputs": [],
   "source": [
    "extracted = extracted[~extracted['diff2'].isnull()]\n",
    "extracted = extracted[extracted['diff2'].str.isnumeric()]\n",
    "extracted = extracted[~extracted['diff1'].isnull()]\n",
    "extracted = extracted[extracted['diff1'].str.isnumeric()]"
   ]
  },
  {
   "cell_type": "code",
   "execution_count": 119,
   "id": "68531be7-18ec-4bae-9064-65aa6d4722a3",
   "metadata": {},
   "outputs": [],
   "source": [
    "extracted['diff'] = extracted['diff1'].astype(int) - extracted['diff2'].astype(int)"
   ]
  },
  {
   "cell_type": "code",
   "execution_count": 120,
   "id": "3d6a6506-8de7-437f-847b-14dbb8bdc1fb",
   "metadata": {},
   "outputs": [
    {
     "data": {
      "text/html": [
       "<div>\n",
       "<style scoped>\n",
       "    .dataframe tbody tr th:only-of-type {\n",
       "        vertical-align: middle;\n",
       "    }\n",
       "\n",
       "    .dataframe tbody tr th {\n",
       "        vertical-align: top;\n",
       "    }\n",
       "\n",
       "    .dataframe thead th {\n",
       "        text-align: right;\n",
       "    }\n",
       "</style>\n",
       "<table border=\"1\" class=\"dataframe\">\n",
       "  <thead>\n",
       "    <tr style=\"text-align: right;\">\n",
       "      <th></th>\n",
       "      <th>Str</th>\n",
       "      <th>diff</th>\n",
       "      <th>diff2</th>\n",
       "      <th>diff1</th>\n",
       "    </tr>\n",
       "  </thead>\n",
       "  <tbody>\n",
       "    <tr>\n",
       "      <th>839</th>\n",
       "      <td>CIPOS=0,32</td>\n",
       "      <td>32</td>\n",
       "      <td>0</td>\n",
       "      <td>32</td>\n",
       "    </tr>\n",
       "    <tr>\n",
       "      <th>838</th>\n",
       "      <td>CIPOS=0,32</td>\n",
       "      <td>32</td>\n",
       "      <td>0</td>\n",
       "      <td>32</td>\n",
       "    </tr>\n",
       "    <tr>\n",
       "      <th>261</th>\n",
       "      <td>CIPOS=0,28</td>\n",
       "      <td>28</td>\n",
       "      <td>0</td>\n",
       "      <td>28</td>\n",
       "    </tr>\n",
       "    <tr>\n",
       "      <th>365</th>\n",
       "      <td>CIPOS=0,26</td>\n",
       "      <td>26</td>\n",
       "      <td>0</td>\n",
       "      <td>26</td>\n",
       "    </tr>\n",
       "    <tr>\n",
       "      <th>783</th>\n",
       "      <td>CIPOS=0,26</td>\n",
       "      <td>26</td>\n",
       "      <td>0</td>\n",
       "      <td>26</td>\n",
       "    </tr>\n",
       "    <tr>\n",
       "      <th>...</th>\n",
       "      <td>...</td>\n",
       "      <td>...</td>\n",
       "      <td>...</td>\n",
       "      <td>...</td>\n",
       "    </tr>\n",
       "    <tr>\n",
       "      <th>351</th>\n",
       "      <td>CIPOS=0,1</td>\n",
       "      <td>1</td>\n",
       "      <td>0</td>\n",
       "      <td>1</td>\n",
       "    </tr>\n",
       "    <tr>\n",
       "      <th>724</th>\n",
       "      <td>CIPOS=0,1</td>\n",
       "      <td>1</td>\n",
       "      <td>0</td>\n",
       "      <td>1</td>\n",
       "    </tr>\n",
       "    <tr>\n",
       "      <th>339</th>\n",
       "      <td>CIPOS=0,1</td>\n",
       "      <td>1</td>\n",
       "      <td>0</td>\n",
       "      <td>1</td>\n",
       "    </tr>\n",
       "    <tr>\n",
       "      <th>730</th>\n",
       "      <td>CIPOS=0,1</td>\n",
       "      <td>1</td>\n",
       "      <td>0</td>\n",
       "      <td>1</td>\n",
       "    </tr>\n",
       "    <tr>\n",
       "      <th>0</th>\n",
       "      <td>CIPOS=0,1</td>\n",
       "      <td>1</td>\n",
       "      <td>0</td>\n",
       "      <td>1</td>\n",
       "    </tr>\n",
       "  </tbody>\n",
       "</table>\n",
       "<p>589 rows × 4 columns</p>\n",
       "</div>"
      ],
      "text/plain": [
       "            Str  diff diff2 diff1\n",
       "839  CIPOS=0,32    32     0    32\n",
       "838  CIPOS=0,32    32     0    32\n",
       "261  CIPOS=0,28    28     0    28\n",
       "365  CIPOS=0,26    26     0    26\n",
       "783  CIPOS=0,26    26     0    26\n",
       "..          ...   ...   ...   ...\n",
       "351   CIPOS=0,1     1     0     1\n",
       "724   CIPOS=0,1     1     0     1\n",
       "339   CIPOS=0,1     1     0     1\n",
       "730   CIPOS=0,1     1     0     1\n",
       "0     CIPOS=0,1     1     0     1\n",
       "\n",
       "[589 rows x 4 columns]"
      ]
     },
     "execution_count": 120,
     "metadata": {},
     "output_type": "execute_result"
    }
   ],
   "source": [
    "extracted.sort_values(by='diff', ascending=False)"
   ]
  },
  {
   "cell_type": "code",
   "execution_count": null,
   "id": "a77be134-b3db-4f40-b3cf-1375c35f65e0",
   "metadata": {},
   "outputs": [],
   "source": [
    "##Q4 What type of stractural variant represented by ID MantaBND:28842:0:1:0:0:0:0"
   ]
  },
  {
   "cell_type": "code",
   "execution_count": 16,
   "id": "e5171196-a252-4a6b-9b0c-4c759ceabe57",
   "metadata": {},
   "outputs": [],
   "source": [
    "SV_ID = df.loc[df['ID'] == 'MantaBND:28842:0:1:0:0:0:0']"
   ]
  },
  {
   "cell_type": "code",
   "execution_count": 17,
   "id": "8214632b-f8d2-4681-8e0f-29ea5a67235a",
   "metadata": {},
   "outputs": [
    {
     "data": {
      "text/html": [
       "<div>\n",
       "<style scoped>\n",
       "    .dataframe tbody tr th:only-of-type {\n",
       "        vertical-align: middle;\n",
       "    }\n",
       "\n",
       "    .dataframe tbody tr th {\n",
       "        vertical-align: top;\n",
       "    }\n",
       "\n",
       "    .dataframe thead th {\n",
       "        text-align: right;\n",
       "    }\n",
       "</style>\n",
       "<table border=\"1\" class=\"dataframe\">\n",
       "  <thead>\n",
       "    <tr style=\"text-align: right;\">\n",
       "      <th></th>\n",
       "      <th>CHROM</th>\n",
       "      <th>POS</th>\n",
       "      <th>ID</th>\n",
       "      <th>REF</th>\n",
       "      <th>ALT</th>\n",
       "      <th>QUAL</th>\n",
       "      <th>FILTER</th>\n",
       "      <th>INFO</th>\n",
       "      <th>FORMAT</th>\n",
       "      <th>NORMAL</th>\n",
       "      <th>TUMOR</th>\n",
       "    </tr>\n",
       "  </thead>\n",
       "  <tbody>\n",
       "    <tr>\n",
       "      <th>60</th>\n",
       "      <td>1</td>\n",
       "      <td>149603639</td>\n",
       "      <td>MantaBND:28842:0:1:0:0:0:0</td>\n",
       "      <td>T</td>\n",
       "      <td>T]X:20306777]</td>\n",
       "      <td>.</td>\n",
       "      <td>PASS</td>\n",
       "      <td>SVTYPE=BND;MATEID=MantaBND:28842:0:1:0:0:0:1;C...</td>\n",
       "      <td>PR:SR</td>\n",
       "      <td>52,0:42,0</td>\n",
       "      <td>104,5:75,9</td>\n",
       "    </tr>\n",
       "  </tbody>\n",
       "</table>\n",
       "</div>"
      ],
      "text/plain": [
       "   CHROM        POS                          ID REF            ALT QUAL  \\\n",
       "60     1  149603639  MantaBND:28842:0:1:0:0:0:0   T  T]X:20306777]    .   \n",
       "\n",
       "   FILTER                                               INFO FORMAT  \\\n",
       "60   PASS  SVTYPE=BND;MATEID=MantaBND:28842:0:1:0:0:0:1;C...  PR:SR   \n",
       "\n",
       "       NORMAL       TUMOR  \n",
       "60  52,0:42,0  104,5:75,9  "
      ]
     },
     "execution_count": 17,
     "metadata": {},
     "output_type": "execute_result"
    }
   ],
   "source": [
    "SV_ID"
   ]
  },
  {
   "cell_type": "code",
   "execution_count": null,
   "id": "01b1618f-3f95-4506-8e01-3d46902a78a8",
   "metadata": {},
   "outputs": [],
   "source": [
    "## TYPE BND (breakends)"
   ]
  }
 ],
 "metadata": {
  "kernelspec": {
   "display_name": "Python 3 (ipykernel)",
   "language": "python",
   "name": "python3"
  },
  "language_info": {
   "codemirror_mode": {
    "name": "ipython",
    "version": 3
   },
   "file_extension": ".py",
   "mimetype": "text/x-python",
   "name": "python",
   "nbconvert_exporter": "python",
   "pygments_lexer": "ipython3",
   "version": "3.9.10"
  }
 },
 "nbformat": 4,
 "nbformat_minor": 5
}
